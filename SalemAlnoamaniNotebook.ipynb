{
 "cells": [
  {
   "cell_type": "markdown",
   "id": "9f33d9d5-cffe-433f-82d2-33bf0f5e50a4",
   "metadata": {},
   "source": [
    "# Individual Notebook\n",
    "### Salem Alnoamani"
   ]
  },
  {
   "cell_type": "markdown",
   "id": "d6132da2-9073-4186-bb7d-f800fa047e3d",
   "metadata": {},
   "source": [
    "## Installing Required Libraries To Load, Understand, Clean and Visualize Data"
   ]
  },
  {
   "cell_type": "code",
   "execution_count": 1,
   "id": "92b7a812-52e8-4a07-b3ab-8ebdf88b0356",
   "metadata": {},
   "outputs": [
    {
     "name": "stdout",
     "output_type": "stream",
     "text": [
      "Requirement already satisfied: pandas in c:\\users\\sbinm\\pycharmprojects\\covid-19\\.venv\\lib\\site-packages (2.2.3)\n",
      "Requirement already satisfied: numpy>=1.23.2 in c:\\users\\sbinm\\pycharmprojects\\covid-19\\.venv\\lib\\site-packages (from pandas) (2.2.3)\n",
      "Requirement already satisfied: python-dateutil>=2.8.2 in c:\\users\\sbinm\\pycharmprojects\\covid-19\\.venv\\lib\\site-packages (from pandas) (2.9.0.post0)\n",
      "Requirement already satisfied: pytz>=2020.1 in c:\\users\\sbinm\\pycharmprojects\\covid-19\\.venv\\lib\\site-packages (from pandas) (2025.1)\n",
      "Requirement already satisfied: tzdata>=2022.7 in c:\\users\\sbinm\\pycharmprojects\\covid-19\\.venv\\lib\\site-packages (from pandas) (2025.1)\n",
      "Requirement already satisfied: six>=1.5 in c:\\users\\sbinm\\pycharmprojects\\covid-19\\.venv\\lib\\site-packages (from python-dateutil>=2.8.2->pandas) (1.17.0)\n"
     ]
    },
    {
     "name": "stderr",
     "output_type": "stream",
     "text": [
      "\n",
      "[notice] A new release of pip is available: 23.2.1 -> 25.0.1\n",
      "[notice] To update, run: python.exe -m pip install --upgrade pip\n"
     ]
    },
    {
     "name": "stdout",
     "output_type": "stream",
     "text": [
      "Requirement already satisfied: missingno in c:\\users\\sbinm\\pycharmprojects\\covid-19\\.venv\\lib\\site-packages (0.5.2)\n",
      "Requirement already satisfied: numpy in c:\\users\\sbinm\\pycharmprojects\\covid-19\\.venv\\lib\\site-packages (from missingno) (2.2.3)\n",
      "Requirement already satisfied: matplotlib in c:\\users\\sbinm\\pycharmprojects\\covid-19\\.venv\\lib\\site-packages (from missingno) (3.10.0)\n",
      "Requirement already satisfied: scipy in c:\\users\\sbinm\\pycharmprojects\\covid-19\\.venv\\lib\\site-packages (from missingno) (1.15.2)\n",
      "Requirement already satisfied: seaborn in c:\\users\\sbinm\\pycharmprojects\\covid-19\\.venv\\lib\\site-packages (from missingno) (0.13.2)\n",
      "Requirement already satisfied: contourpy>=1.0.1 in c:\\users\\sbinm\\pycharmprojects\\covid-19\\.venv\\lib\\site-packages (from matplotlib->missingno) (1.3.1)\n",
      "Requirement already satisfied: cycler>=0.10 in c:\\users\\sbinm\\pycharmprojects\\covid-19\\.venv\\lib\\site-packages (from matplotlib->missingno) (0.12.1)\n",
      "Requirement already satisfied: fonttools>=4.22.0 in c:\\users\\sbinm\\pycharmprojects\\covid-19\\.venv\\lib\\site-packages (from matplotlib->missingno) (4.56.0)\n",
      "Requirement already satisfied: kiwisolver>=1.3.1 in c:\\users\\sbinm\\pycharmprojects\\covid-19\\.venv\\lib\\site-packages (from matplotlib->missingno) (1.4.8)\n",
      "Requirement already satisfied: packaging>=20.0 in c:\\users\\sbinm\\pycharmprojects\\covid-19\\.venv\\lib\\site-packages (from matplotlib->missingno) (24.2)\n",
      "Requirement already satisfied: pillow>=8 in c:\\users\\sbinm\\pycharmprojects\\covid-19\\.venv\\lib\\site-packages (from matplotlib->missingno) (11.1.0)\n",
      "Requirement already satisfied: pyparsing>=2.3.1 in c:\\users\\sbinm\\pycharmprojects\\covid-19\\.venv\\lib\\site-packages (from matplotlib->missingno) (3.2.1)\n",
      "Requirement already satisfied: python-dateutil>=2.7 in c:\\users\\sbinm\\pycharmprojects\\covid-19\\.venv\\lib\\site-packages (from matplotlib->missingno) (2.9.0.post0)\n",
      "Requirement already satisfied: pandas>=1.2 in c:\\users\\sbinm\\pycharmprojects\\covid-19\\.venv\\lib\\site-packages (from seaborn->missingno) (2.2.3)\n",
      "Requirement already satisfied: pytz>=2020.1 in c:\\users\\sbinm\\pycharmprojects\\covid-19\\.venv\\lib\\site-packages (from pandas>=1.2->seaborn->missingno) (2025.1)\n",
      "Requirement already satisfied: tzdata>=2022.7 in c:\\users\\sbinm\\pycharmprojects\\covid-19\\.venv\\lib\\site-packages (from pandas>=1.2->seaborn->missingno) (2025.1)\n",
      "Requirement already satisfied: six>=1.5 in c:\\users\\sbinm\\pycharmprojects\\covid-19\\.venv\\lib\\site-packages (from python-dateutil>=2.7->matplotlib->missingno) (1.17.0)\n"
     ]
    },
    {
     "name": "stderr",
     "output_type": "stream",
     "text": [
      "\n",
      "[notice] A new release of pip is available: 23.2.1 -> 25.0.1\n",
      "[notice] To update, run: python.exe -m pip install --upgrade pip\n"
     ]
    },
    {
     "name": "stdout",
     "output_type": "stream",
     "text": [
      "Requirement already satisfied: matplotlib in c:\\users\\sbinm\\pycharmprojects\\covid-19\\.venv\\lib\\site-packages (3.10.0)\n",
      "Requirement already satisfied: contourpy>=1.0.1 in c:\\users\\sbinm\\pycharmprojects\\covid-19\\.venv\\lib\\site-packages (from matplotlib) (1.3.1)\n",
      "Requirement already satisfied: cycler>=0.10 in c:\\users\\sbinm\\pycharmprojects\\covid-19\\.venv\\lib\\site-packages (from matplotlib) (0.12.1)\n",
      "Requirement already satisfied: fonttools>=4.22.0 in c:\\users\\sbinm\\pycharmprojects\\covid-19\\.venv\\lib\\site-packages (from matplotlib) (4.56.0)\n",
      "Requirement already satisfied: kiwisolver>=1.3.1 in c:\\users\\sbinm\\pycharmprojects\\covid-19\\.venv\\lib\\site-packages (from matplotlib) (1.4.8)\n",
      "Requirement already satisfied: numpy>=1.23 in c:\\users\\sbinm\\pycharmprojects\\covid-19\\.venv\\lib\\site-packages (from matplotlib) (2.2.3)\n",
      "Requirement already satisfied: packaging>=20.0 in c:\\users\\sbinm\\pycharmprojects\\covid-19\\.venv\\lib\\site-packages (from matplotlib) (24.2)\n",
      "Requirement already satisfied: pillow>=8 in c:\\users\\sbinm\\pycharmprojects\\covid-19\\.venv\\lib\\site-packages (from matplotlib) (11.1.0)\n",
      "Requirement already satisfied: pyparsing>=2.3.1 in c:\\users\\sbinm\\pycharmprojects\\covid-19\\.venv\\lib\\site-packages (from matplotlib) (3.2.1)\n",
      "Requirement already satisfied: python-dateutil>=2.7 in c:\\users\\sbinm\\pycharmprojects\\covid-19\\.venv\\lib\\site-packages (from matplotlib) (2.9.0.post0)\n",
      "Requirement already satisfied: six>=1.5 in c:\\users\\sbinm\\pycharmprojects\\covid-19\\.venv\\lib\\site-packages (from python-dateutil>=2.7->matplotlib) (1.17.0)\n"
     ]
    },
    {
     "name": "stderr",
     "output_type": "stream",
     "text": [
      "\n",
      "[notice] A new release of pip is available: 23.2.1 -> 25.0.1\n",
      "[notice] To update, run: python.exe -m pip install --upgrade pip\n"
     ]
    },
    {
     "name": "stdout",
     "output_type": "stream",
     "text": [
      "Requirement already satisfied: pandas in c:\\users\\sbinm\\pycharmprojects\\covid-19\\.venv\\lib\\site-packages (2.2.3)\n",
      "Requirement already satisfied: matplotlib in c:\\users\\sbinm\\pycharmprojects\\covid-19\\.venv\\lib\\site-packages (3.10.0)\n",
      "Requirement already satisfied: seaborn in c:\\users\\sbinm\\pycharmprojects\\covid-19\\.venv\\lib\\site-packages (0.13.2)\n",
      "Requirement already satisfied: numpy>=1.23.2 in c:\\users\\sbinm\\pycharmprojects\\covid-19\\.venv\\lib\\site-packages (from pandas) (2.2.3)\n",
      "Requirement already satisfied: python-dateutil>=2.8.2 in c:\\users\\sbinm\\pycharmprojects\\covid-19\\.venv\\lib\\site-packages (from pandas) (2.9.0.post0)\n",
      "Requirement already satisfied: pytz>=2020.1 in c:\\users\\sbinm\\pycharmprojects\\covid-19\\.venv\\lib\\site-packages (from pandas) (2025.1)\n",
      "Requirement already satisfied: tzdata>=2022.7 in c:\\users\\sbinm\\pycharmprojects\\covid-19\\.venv\\lib\\site-packages (from pandas) (2025.1)\n",
      "Requirement already satisfied: contourpy>=1.0.1 in c:\\users\\sbinm\\pycharmprojects\\covid-19\\.venv\\lib\\site-packages (from matplotlib) (1.3.1)\n",
      "Requirement already satisfied: cycler>=0.10 in c:\\users\\sbinm\\pycharmprojects\\covid-19\\.venv\\lib\\site-packages (from matplotlib) (0.12.1)\n",
      "Requirement already satisfied: fonttools>=4.22.0 in c:\\users\\sbinm\\pycharmprojects\\covid-19\\.venv\\lib\\site-packages (from matplotlib) (4.56.0)\n",
      "Requirement already satisfied: kiwisolver>=1.3.1 in c:\\users\\sbinm\\pycharmprojects\\covid-19\\.venv\\lib\\site-packages (from matplotlib) (1.4.8)\n",
      "Requirement already satisfied: packaging>=20.0 in c:\\users\\sbinm\\pycharmprojects\\covid-19\\.venv\\lib\\site-packages (from matplotlib) (24.2)\n",
      "Requirement already satisfied: pillow>=8 in c:\\users\\sbinm\\pycharmprojects\\covid-19\\.venv\\lib\\site-packages (from matplotlib) (11.1.0)\n",
      "Requirement already satisfied: pyparsing>=2.3.1 in c:\\users\\sbinm\\pycharmprojects\\covid-19\\.venv\\lib\\site-packages (from matplotlib) (3.2.1)\n",
      "Requirement already satisfied: six>=1.5 in c:\\users\\sbinm\\pycharmprojects\\covid-19\\.venv\\lib\\site-packages (from python-dateutil>=2.8.2->pandas) (1.17.0)\n"
     ]
    },
    {
     "name": "stderr",
     "output_type": "stream",
     "text": [
      "\n",
      "[notice] A new release of pip is available: 23.2.1 -> 25.0.1\n",
      "[notice] To update, run: python.exe -m pip install --upgrade pip\n"
     ]
    }
   ],
   "source": [
    "!pip install pandas\n",
    "!pip install missingno\n",
    "!pip install matplotlib\n",
    "!pip install pandas matplotlib seaborn"
   ]
  },
  {
   "cell_type": "markdown",
   "id": "a65998d2-6774-4b3d-a8ba-f582b1750398",
   "metadata": {},
   "source": [
    "### Analyzing And Understanding Datasets"
   ]
  },
  {
   "cell_type": "code",
   "execution_count": 3,
   "id": "b8b0733b-8b64-41f5-9657-56dd467a6bac",
   "metadata": {},
   "outputs": [
    {
     "name": "stdout",
     "output_type": "stream",
     "text": [
      "Country Wise Latest Date Info:\n",
      "<class 'pandas.core.frame.DataFrame'>\n",
      "RangeIndex: 187 entries, 0 to 186\n",
      "Data columns (total 15 columns):\n",
      " #   Column                  Non-Null Count  Dtype  \n",
      "---  ------                  --------------  -----  \n",
      " 0   Country/Region          187 non-null    object \n",
      " 1   Confirmed               187 non-null    int64  \n",
      " 2   Deaths                  187 non-null    int64  \n",
      " 3   Recovered               187 non-null    int64  \n",
      " 4   Active                  187 non-null    int64  \n",
      " 5   New cases               187 non-null    int64  \n",
      " 6   New deaths              187 non-null    int64  \n",
      " 7   New recovered           187 non-null    int64  \n",
      " 8   Deaths / 100 Cases      187 non-null    float64\n",
      " 9   Recovered / 100 Cases   187 non-null    float64\n",
      " 10  Deaths / 100 Recovered  187 non-null    float64\n",
      " 11  Confirmed last week     187 non-null    int64  \n",
      " 12  1 week change           187 non-null    int64  \n",
      " 13  1 week % increase       187 non-null    float64\n",
      " 14  WHO Region              187 non-null    object \n",
      "dtypes: float64(4), int64(9), object(2)\n",
      "memory usage: 22.0+ KB\n",
      "None\n"
     ]
    }
   ],
   "source": [
    "# Analyzing the dataset that is specific to individual\n",
    "import pandas as pd\n",
    "country_wise_df = pd.read_csv(\"country_wise_latest.csv\")\n",
    "print(\"Country Wise Latest Date Info:\")\n",
    "print(country_wise_df.info())"
   ]
  },
  {
   "cell_type": "code",
   "execution_count": 4,
   "id": "44971105-3055-43e3-bdab-e47dfb3d4a18",
   "metadata": {},
   "outputs": [
    {
     "name": "stdout",
     "output_type": "stream",
     "text": [
      "Country/Region            0\n",
      "Confirmed                 0\n",
      "Deaths                    0\n",
      "Recovered                 0\n",
      "Active                    0\n",
      "New cases                 0\n",
      "New deaths                0\n",
      "New recovered             0\n",
      "Deaths / 100 Cases        0\n",
      "Recovered / 100 Cases     0\n",
      "Deaths / 100 Recovered    0\n",
      "Confirmed last week       0\n",
      "1 week change             0\n",
      "1 week % increase         0\n",
      "WHO Region                0\n",
      "dtype: int64\n"
     ]
    }
   ],
   "source": [
    "# printing missing values of country wise df\n",
    "print(country_wise_df.isnull().sum())"
   ]
  },
  {
   "cell_type": "code",
   "execution_count": 5,
   "id": "9ceee79f-4036-489e-b750-1468d0aa3906",
   "metadata": {},
   "outputs": [
    {
     "name": "stdout",
     "output_type": "stream",
     "text": [
      "  Country/Region  Confirmed  Deaths  Recovered  Active  New cases  New deaths  \\\n",
      "0    Afghanistan      36263    1269      25198    9796        106          10   \n",
      "1        Albania       4880     144       2745    1991        117           6   \n",
      "2        Algeria      27973    1163      18837    7973        616           8   \n",
      "3        Andorra        907      52        803      52         10           0   \n",
      "4         Angola        950      41        242     667         18           1   \n",
      "\n",
      "   New recovered  Deaths / 100 Cases  Recovered / 100 Cases  \\\n",
      "0             18                3.50                  69.49   \n",
      "1             63                2.95                  56.25   \n",
      "2            749                4.16                  67.34   \n",
      "3              0                5.73                  88.53   \n",
      "4              0                4.32                  25.47   \n",
      "\n",
      "   Deaths / 100 Recovered  Confirmed last week  1 week change  \\\n",
      "0                    5.04                35526            737   \n",
      "1                    5.25                 4171            709   \n",
      "2                    6.17                23691           4282   \n",
      "3                    6.48                  884             23   \n",
      "4                   16.94                  749            201   \n",
      "\n",
      "   1 week % increase             WHO Region  \n",
      "0               2.07  Eastern Mediterranean  \n",
      "1              17.00                 Europe  \n",
      "2              18.07                 Africa  \n",
      "3               2.60                 Europe  \n",
      "4              26.84                 Africa  \n"
     ]
    }
   ],
   "source": [
    "# Printing first few rows of country_wise_df\n",
    "print(country_wise_df.head())"
   ]
  },
  {
   "cell_type": "code",
   "execution_count": 6,
   "id": "c9c33497-e9d8-4ec9-9b96-dd193ce89510",
   "metadata": {},
   "outputs": [
    {
     "name": "stdout",
     "output_type": "stream",
     "text": [
      "          Confirmed         Deaths     Recovered        Active     New cases  \\\n",
      "count  1.870000e+02     187.000000  1.870000e+02  1.870000e+02    187.000000   \n",
      "mean   8.813094e+04    3497.518717  5.063148e+04  3.400194e+04   1222.957219   \n",
      "std    3.833187e+05   14100.002482  1.901882e+05  2.133262e+05   5710.374790   \n",
      "min    1.000000e+01       0.000000  0.000000e+00  0.000000e+00      0.000000   \n",
      "25%    1.114000e+03      18.500000  6.265000e+02  1.415000e+02      4.000000   \n",
      "50%    5.059000e+03     108.000000  2.815000e+03  1.600000e+03     49.000000   \n",
      "75%    4.046050e+04     734.000000  2.260600e+04  9.149000e+03    419.500000   \n",
      "max    4.290259e+06  148011.000000  1.846641e+06  2.816444e+06  56336.000000   \n",
      "\n",
      "        New deaths  New recovered  Deaths / 100 Cases  Recovered / 100 Cases  \\\n",
      "count   187.000000     187.000000          187.000000             187.000000   \n",
      "mean     28.957219     933.812834            3.019519              64.820535   \n",
      "std     120.037173    4197.719635            3.454302              26.287694   \n",
      "min       0.000000       0.000000            0.000000               0.000000   \n",
      "25%       0.000000       0.000000            0.945000              48.770000   \n",
      "50%       1.000000      22.000000            2.150000              71.320000   \n",
      "75%       6.000000     221.000000            3.875000              86.885000   \n",
      "max    1076.000000   33728.000000           28.560000             100.000000   \n",
      "\n",
      "       Deaths / 100 Recovered  Confirmed last week  1 week change  \\\n",
      "count                  187.00         1.870000e+02     187.000000   \n",
      "mean                      inf         7.868248e+04    9448.459893   \n",
      "std                       NaN         3.382737e+05   47491.127684   \n",
      "min                      0.00         1.000000e+01     -47.000000   \n",
      "25%                      1.45         1.051500e+03      49.000000   \n",
      "50%                      3.62         5.020000e+03     432.000000   \n",
      "75%                      6.44         3.708050e+04    3172.000000   \n",
      "max                       inf         3.834677e+06  455582.000000   \n",
      "\n",
      "       1 week % increase  \n",
      "count         187.000000  \n",
      "mean           13.606203  \n",
      "std            24.509838  \n",
      "min            -3.840000  \n",
      "25%             2.775000  \n",
      "50%             6.890000  \n",
      "75%            16.855000  \n",
      "max           226.320000  \n"
     ]
    },
    {
     "name": "stderr",
     "output_type": "stream",
     "text": [
      "C:\\Users\\SBINM\\PycharmProjects\\COVID-19\\.venv\\Lib\\site-packages\\pandas\\core\\nanops.py:1016: RuntimeWarning: invalid value encountered in subtract\n",
      "  sqr = _ensure_numeric((avg - values) ** 2)\n"
     ]
    }
   ],
   "source": [
    "#Describing country_wise_df\n",
    "print(country_wise_df.describe())"
   ]
  },
  {
   "cell_type": "markdown",
   "id": "a8664d8f-d7e9-4704-8df0-30c392f8f493",
   "metadata": {},
   "source": [
    "# Insight 1: Death and Recovery Rate by WHO Region to be Consice."
   ]
  },
  {
   "cell_type": "code",
   "execution_count": 7,
   "id": "0bd8fc84-a4c1-42d5-ac0f-438ed6054a33",
   "metadata": {},
   "outputs": [
    {
     "name": "stdout",
     "output_type": "stream",
     "text": [
      "              WHO Region  Count\n",
      "0                 Europe     56\n",
      "1                 Africa     48\n",
      "2               Americas     35\n",
      "3  Eastern Mediterranean     22\n",
      "4        Western Pacific     16\n",
      "5        South-East Asia     10\n"
     ]
    }
   ],
   "source": [
    "who_region_counts = country_wise_df[\"WHO Region\"].value_counts()\n",
    "# Convert to DataFrame for better readability\n",
    "who_region_df = who_region_counts.to_frame().reset_index()\n",
    "who_region_df.columns = [\"WHO Region\", \"Count\"]\n",
    "\n",
    "# Display the DataFrame\n",
    "print(who_region_df)"
   ]
  },
  {
   "cell_type": "code",
   "execution_count": 8,
   "id": "c60a86a7-460f-4ae1-9b99-251c8d900ab3",
   "metadata": {},
   "outputs": [
    {
     "data": {
      "image/png": "[encoded data removed]",
      "text/plain": [
       "<Figure size 1000x500 with 1 Axes>"
      ]
     },
     "metadata": {},
     "output_type": "display_data"
    }
   ],
   "source": [
    "# Import necessary libraries\n",
    "import pandas as pd\n",
    "import matplotlib.pyplot as plt\n",
    "\n",
    "# Aggregate Death and Recovery Rates by WHO Region\n",
    "who_region_rates = country_wise_df.groupby(\"WHO Region\")[[\"Deaths / 100 Cases\", \"Recovered / 100 Cases\"]].mean().reset_index()\n",
    "\n",
    "# Rename columns for clarity\n",
    "who_region_rates.rename(columns={\"Deaths / 100 Cases\": \"Average Death Rate (%)\", \n",
    "                                 \"Recovered / 100 Cases\": \"Average Recovery Rate (%)\"}, inplace=True)\n",
    "\n",
    "# Plot the line graph\n",
    "plt.figure(figsize=(10, 5))\n",
    "plt.plot(who_region_rates[\"WHO Region\"], who_region_rates[\"Average Death Rate (%)\"], \n",
    "         marker='o', linestyle='-', color='red', label=\"Average Death Rate (%)\")\n",
    "plt.plot(who_region_rates[\"WHO Region\"], who_region_rates[\"Average Recovery Rate (%)\"], \n",
    "         marker='s', linestyle='--', color='green', label=\"Average Recovery Rate (%)\")\n",
    "\n",
    "# Formatting the chart\n",
    "plt.xticks(rotation=45, fontsize=10)\n",
    "plt.yticks(fontsize=10)\n",
    "plt.xlabel(\"WHO Region\", fontsize=12)\n",
    "plt.ylabel(\"Rate (%)\", fontsize=12)\n",
    "plt.title(\"Average Death and Recovery Rates by WHO Region\", fontsize=14)\n",
    "plt.legend()\n",
    "plt.grid(True, linestyle=\"--\", alpha=0.7)\n",
    "plt.tight_layout()\n",
    "\n",
    "# Show the plot\n",
    "plt.show()"
   ]
  },
  {
   "cell_type": "markdown",
   "id": "220346bd-f5ca-4a30-a1de-c6ca47308168",
   "metadata": {},
   "source": [
    "# Addition Insight: Bar Chart to see Death & Recovery Rates by Middle Easter Region Countries"
   ]
  },
  {
   "cell_type": "code",
   "execution_count": 9,
   "id": "c0917190-0c64-4e71-b7e2-978210de25aa",
   "metadata": {},
   "outputs": [
    {
     "name": "stderr",
     "output_type": "stream",
     "text": [
      "C:\\Users\\SBINM\\AppData\\Local\\Temp\\ipykernel_18780\\3811431160.py:19: SettingWithCopyWarning: \n",
      "A value is trying to be set on a copy of a slice from a DataFrame\n",
      "\n",
      "See the caveats in the documentation: https://pandas.pydata.org/pandas-docs/stable/user_guide/indexing.html#returning-a-view-versus-a-copy\n",
      "  middle_east_df_filtered.rename(columns={\"Recovered / 100 Cases\": \"Recovered Rate (%)\"}, inplace=True)\n"
     ]
    },
    {
     "data": {
      "text/html": [
       "<div>\n",
       "<style scoped>\n",
       "    .dataframe tbody tr th:only-of-type {\n",
       "        vertical-align: middle;\n",
       "    }\n",
       "\n",
       "    .dataframe tbody tr th {\n",
       "        vertical-align: top;\n",
       "    }\n",
       "\n",
       "    .dataframe thead th {\n",
       "        text-align: right;\n",
       "    }\n",
       "</style>\n",
       "<table border=\"1\" class=\"dataframe\">\n",
       "  <thead>\n",
       "    <tr style=\"text-align: right;\">\n",
       "      <th></th>\n",
       "      <th>Country/Region</th>\n",
       "      <th>Confirmed</th>\n",
       "      <th>Recovered Rate (%)</th>\n",
       "    </tr>\n",
       "  </thead>\n",
       "  <tbody>\n",
       "    <tr>\n",
       "      <th>0</th>\n",
       "      <td>Afghanistan</td>\n",
       "      <td>36263</td>\n",
       "      <td>69.49</td>\n",
       "    </tr>\n",
       "    <tr>\n",
       "      <th>12</th>\n",
       "      <td>Bahrain</td>\n",
       "      <td>39482</td>\n",
       "      <td>91.46</td>\n",
       "    </tr>\n",
       "    <tr>\n",
       "      <th>81</th>\n",
       "      <td>Iran</td>\n",
       "      <td>293606</td>\n",
       "      <td>86.90</td>\n",
       "    </tr>\n",
       "    <tr>\n",
       "      <th>82</th>\n",
       "      <td>Iraq</td>\n",
       "      <td>112585</td>\n",
       "      <td>68.52</td>\n",
       "    </tr>\n",
       "    <tr>\n",
       "      <th>88</th>\n",
       "      <td>Jordan</td>\n",
       "      <td>1176</td>\n",
       "      <td>88.52</td>\n",
       "    </tr>\n",
       "    <tr>\n",
       "      <th>92</th>\n",
       "      <td>Kuwait</td>\n",
       "      <td>64379</td>\n",
       "      <td>85.52</td>\n",
       "    </tr>\n",
       "    <tr>\n",
       "      <th>96</th>\n",
       "      <td>Lebanon</td>\n",
       "      <td>3882</td>\n",
       "      <td>44.02</td>\n",
       "    </tr>\n",
       "    <tr>\n",
       "      <th>127</th>\n",
       "      <td>Oman</td>\n",
       "      <td>77058</td>\n",
       "      <td>74.01</td>\n",
       "    </tr>\n",
       "    <tr>\n",
       "      <th>136</th>\n",
       "      <td>Qatar</td>\n",
       "      <td>109597</td>\n",
       "      <td>97.02</td>\n",
       "    </tr>\n",
       "    <tr>\n",
       "      <th>145</th>\n",
       "      <td>Saudi Arabia</td>\n",
       "      <td>268934</td>\n",
       "      <td>82.90</td>\n",
       "    </tr>\n",
       "    <tr>\n",
       "      <th>163</th>\n",
       "      <td>Syria</td>\n",
       "      <td>674</td>\n",
       "      <td>0.00</td>\n",
       "    </tr>\n",
       "    <tr>\n",
       "      <th>172</th>\n",
       "      <td>Turkey</td>\n",
       "      <td>227019</td>\n",
       "      <td>92.71</td>\n",
       "    </tr>\n",
       "    <tr>\n",
       "      <th>176</th>\n",
       "      <td>United Arab Emirates</td>\n",
       "      <td>59177</td>\n",
       "      <td>88.73</td>\n",
       "    </tr>\n",
       "    <tr>\n",
       "      <th>184</th>\n",
       "      <td>Yemen</td>\n",
       "      <td>1691</td>\n",
       "      <td>49.26</td>\n",
       "    </tr>\n",
       "  </tbody>\n",
       "</table>\n",
       "</div>"
      ],
      "text/plain": [
       "           Country/Region  Confirmed  Recovered Rate (%)\n",
       "0             Afghanistan      36263               69.49\n",
       "12                Bahrain      39482               91.46\n",
       "81                   Iran     293606               86.90\n",
       "82                   Iraq     112585               68.52\n",
       "88                 Jordan       1176               88.52\n",
       "92                 Kuwait      64379               85.52\n",
       "96                Lebanon       3882               44.02\n",
       "127                  Oman      77058               74.01\n",
       "136                 Qatar     109597               97.02\n",
       "145          Saudi Arabia     268934               82.90\n",
       "163                 Syria        674                0.00\n",
       "172                Turkey     227019               92.71\n",
       "176  United Arab Emirates      59177               88.73\n",
       "184                 Yemen       1691               49.26"
      ]
     },
     "metadata": {},
     "output_type": "display_data"
    }
   ],
   "source": [
    "# Import necessary libraries\n",
    "import pandas as pd\n",
    "\n",
    "# Load the dataset (Update the path if necessary)\n",
    "file_path = \"country_wise_latest.csv\"  # If running locally, update the file path\n",
    "df = pd.read_csv(file_path)\n",
    "\n",
    "# Define a list of Middle Eastern countries excluding Israel\n",
    "middle_eastern_countries = [\n",
    "    \"Afghanistan\", \"Bahrain\", \"Iran\", \"Iraq\", \"Jordan\", \"Kuwait\", \"Lebanon\",\n",
    "    \"Oman\", \"Palestine\", \"Qatar\", \"Saudi Arabia\", \"Syria\", \"Turkey\", \"United Arab Emirates\", \"Yemen\"\n",
    "]\n",
    "\n",
    "# Filter the dataset for Middle Eastern countries except Israel\n",
    "middle_east_df = df[df[\"Country/Region\"].isin(middle_eastern_countries)]\n",
    "\n",
    "# Select only relevant columns for visualization\n",
    "middle_east_df_filtered = middle_east_df[[\"Country/Region\", \"Confirmed\", \"Recovered / 100 Cases\"]]\n",
    "middle_east_df_filtered.rename(columns={\"Recovered / 100 Cases\": \"Recovered Rate (%)\"}, inplace=True)\n",
    "\n",
    "# Display the filtered table\n",
    "from IPython.display import display\n",
    "display(middle_east_df_filtered)"
   ]
  },
  {
   "cell_type": "code",
   "execution_count": null,
   "id": "21b4ec45-4c2d-445d-a625-c3a66cae8f50",
   "metadata": {},
   "outputs": [],
   "source": []
  }
 ],
 "metadata": {
  "kernelspec": {
   "display_name": "Python 3 (ipykernel)",
   "language": "python",
   "name": "python3"
  },
  "language_info": {
   "codemirror_mode": {
    "name": "ipython",
    "version": 3
   },
   "file_extension": ".py",
   "mimetype": "text/x-python",
   "name": "python",
   "nbconvert_exporter": "python",
   "pygments_lexer": "ipython3",
   "version": "3.11.9"
  }
 },
 "nbformat": 4,
 "nbformat_minor": 5
}
