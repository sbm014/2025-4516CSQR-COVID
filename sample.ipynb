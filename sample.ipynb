{
 "cells": [
  {
   "cell_type": "code",
   "execution_count": 2,
   "metadata": {},
   "outputs": [
    {
     "name": "stdout",
     "output_type": "stream",
     "text": [
      "            Country/Region      Continent    Population  TotalCases  NewCases  \\\n",
      "0                      USA  North America  3.311981e+08     5032179       NaN   \n",
      "1                   Brazil  South America  2.127107e+08     2917562       NaN   \n",
      "2                    India           Asia  1.381345e+09     2025409       NaN   \n",
      "3                   Russia         Europe  1.459409e+08      871894       NaN   \n",
      "4             South Africa         Africa  5.938157e+07      538184       NaN   \n",
      "..                     ...            ...           ...         ...       ...   \n",
      "204             Montserrat  North America  4.992000e+03          13       NaN   \n",
      "205  Caribbean Netherlands  North America  2.624700e+04          13       NaN   \n",
      "206       Falkland Islands  South America  3.489000e+03          13       NaN   \n",
      "207           Vatican City         Europe  8.010000e+02          12       NaN   \n",
      "208         Western Sahara         Africa  5.986820e+05          10       NaN   \n",
      "\n",
      "     TotalDeaths  NewDeaths  TotalRecovered  NewRecovered  ActiveCases  \\\n",
      "0       162804.0        NaN       2576668.0           NaN    2292707.0   \n",
      "1        98644.0        NaN       2047660.0           NaN     771258.0   \n",
      "2        41638.0        NaN       1377384.0           NaN     606387.0   \n",
      "3        14606.0        NaN        676357.0           NaN     180931.0   \n",
      "4         9604.0        NaN        387316.0           NaN     141264.0   \n",
      "..           ...        ...             ...           ...          ...   \n",
      "204          1.0        NaN            10.0           NaN          2.0   \n",
      "205          NaN        NaN             7.0           NaN          6.0   \n",
      "206          NaN        NaN            13.0           NaN          0.0   \n",
      "207          NaN        NaN            12.0           NaN          0.0   \n",
      "208          1.0        NaN             8.0           NaN          1.0   \n",
      "\n",
      "     Serious,Critical  Tot Cases/1M pop  Deaths/1M pop  TotalTests  \\\n",
      "0             18296.0           15194.0          492.0  63139605.0   \n",
      "1              8318.0           13716.0          464.0  13206188.0   \n",
      "2              8944.0            1466.0           30.0  22149351.0   \n",
      "3              2300.0            5974.0          100.0  29716907.0   \n",
      "4               539.0            9063.0          162.0   3149807.0   \n",
      "..                ...               ...            ...         ...   \n",
      "204               NaN            2604.0          200.0        61.0   \n",
      "205               NaN             495.0            NaN       424.0   \n",
      "206               NaN            3726.0            NaN      1816.0   \n",
      "207               NaN           14981.0            NaN         NaN   \n",
      "208               NaN              17.0            2.0         NaN   \n",
      "\n",
      "     Tests/1M pop      WHO Region  \n",
      "0        190640.0        Americas  \n",
      "1         62085.0        Americas  \n",
      "2         16035.0  South-EastAsia  \n",
      "3        203623.0          Europe  \n",
      "4         53044.0          Africa  \n",
      "..            ...             ...  \n",
      "204       12220.0             NaN  \n",
      "205       16154.0             NaN  \n",
      "206      520493.0             NaN  \n",
      "207           NaN          Europe  \n",
      "208           NaN          Africa  \n",
      "\n",
      "[209 rows x 16 columns]\n"
     ]
    }
   ],
   "source": [
    "import pandas as pd\n",
    "dfworldmeter = pd.read_csv('worldometer_data.csv')\n",
    "print(dfworldmeter)"
   ]
  },
  {
   "cell_type": "code",
   "execution_count": 1,
   "metadata": {},
   "outputs": [
    {
     "name": "stdout",
     "output_type": "stream",
     "text": [
      "helloworld\n"
     ]
    }
   ],
   "source": [
    "print('helloworld')"
   ]
  }
 ],
 "metadata": {
  "kernelspec": {
   "display_name": "Python 3",
   "language": "python",
   "name": "python3"
  },
  "language_info": {
   "codemirror_mode": {
    "name": "ipython",
    "version": 3
   },
   "file_extension": ".py",
   "mimetype": "text/x-python",
   "name": "python",
   "nbconvert_exporter": "python",
   "pygments_lexer": "ipython3",
   "version": "3.12.1"
  }
 },
 "nbformat": 4,
 "nbformat_minor": 2
}
